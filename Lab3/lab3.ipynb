{
 "cells": [
  {
   "cell_type": "code",
   "execution_count": 71,
   "id": "12cf4c0d",
   "metadata": {},
   "outputs": [
    {
     "data": {
      "text/plain": [
       "'MSG] Activity from: ec1c7e7449341b58478c93c27ea6e08a53cc834279e1643dbba994a0e7f3ea43\\\\\\\\[MSG] Activity from: 003b9434a45f0eecd2d35bcc78129aa3edc363f802ae5abdd161c4f421ca49a7\\\\\\\\[MSG] Activity from: 65ec312325f43f40107dfcba651cab2d1afb6df54578065f1d8bba89801d3ef2\\\\\\\\[MSG] Activity from: 223e634cea203ba2c7d4e7931a2dafdf0d452309c1a1eb1a28fc2fae057df400\\\\\\\\[MSG] Activity from: 431d591c6eed3b6e793b316d7bf6ce2e3be51aa707680b6f14511fbc9dae9e32\\\\\\\\[MSG] Activity from: 65ec312325f43f40107dfcba651cab2d1afb6df54578065f1d8bba89801d3ef2\\\\\\\\[MSG] Activity from: 65ec312325f43f40107dfcba651cab2d1afb6df54578065f1d8bba89801d3ef2\\\\\\\\[MSG] Activity from: ebb2b5d1dfbbb8174f5fb1fd15230540aea77772d3a65482def3d978f6caf152\\\\\\\\[MSG] Activity from: f7fab4b591754a190be32cb607f257f436fa3f325d71edf41b6179c5330cd75a\\\\\\\\[MSG] Activity from: 476bdcaf166385371f49c54ba74d275cfdfa5c70c255ea45363e3795cbc11ae5\\\\\\\\[MSG] Activity from: 63681fa3c03451c49f9fc2ab9be43bea7f069069c1c472f6a41e3ef3a761de50\\\\\\\\[MSG] Activity from: 36257a19934b71cea753da3df9be8ae8ca49ee843b72b1c5468f8f5dab8a7ad0\\\\\\\\[MSG] Activity from: 36257a19934b71cea753da3df9be8ae8ca49ee843b72b1c5468f8f5dab8a7ad0\\\\\\\\[MSG] Activity from: HTB{d38u991n9_1n732f4c35_c4n_83_f0und_1n_41m057_3v32y_3m83dd3d_d3v1c3!!52}\\\\\\\\'"
      ]
     },
     "execution_count": 71,
     "metadata": {},
     "output_type": "execute_result"
    }
   ],
   "source": [
    "l = []\n",
    "flag = \"\"\n",
    "for i in open(\"ascii.csv\").readlines()[2:]:\n",
    "    l.append(i.split(\",\")[3].strip(\"\\n\")[1])\n",
    "flag.join(l)\n",
    "    "
   ]
  },
  {
   "cell_type": "markdown",
   "id": "a51728fd",
   "metadata": {},
   "source": [
    "**3.3**"
   ]
  },
  {
   "cell_type": "code",
   "execution_count": 1,
   "id": "21e87e72",
   "metadata": {},
   "outputs": [],
   "source": [
    "def password_check(user_input):\n",
    "    password = \"secretpass\"\n",
    "    if(len(user_input) == len(password)):\n",
    "        for idx, element in enumerate(password):\n",
    "            if(user_input[idx] != element):\n",
    "                return False\n",
    "    else:\n",
    "        return False\n",
    "    return True\n"
   ]
  },
  {
   "cell_type": "code",
   "execution_count": 3,
   "id": "0b2137f4",
   "metadata": {},
   "outputs": [],
   "source": [
    "import time"
   ]
  },
  {
   "cell_type": "code",
   "execution_count": 134,
   "id": "04f6bff3",
   "metadata": {},
   "outputs": [],
   "source": [
    "a = \"abcdefghijklmnopqrstuvwxyz\"\n"
   ]
  },
  {
   "cell_type": "code",
   "execution_count": 135,
   "id": "b01967eb",
   "metadata": {},
   "outputs": [],
   "source": [
    "def guess():\n",
    "    l = {}\n",
    "    for j in range(len(a)):\n",
    "        time0 = time.thread_time_ns()\n",
    "        password_check(\"A\"*j)\n",
    "        time1 = time.thread_time_ns()\n",
    "        times = time1-time0\n",
    "        l[j]=times\n",
    "    l.pop(0)\n",
    "    pw = [x for x,j in l.items() if j==max(l.values())]\n",
    "    print(\"The predicted passwort length is:\",pw)"
   ]
  },
  {
   "cell_type": "code",
   "execution_count": 136,
   "id": "dff4584d",
   "metadata": {},
   "outputs": [
    {
     "name": "stdout",
     "output_type": "stream",
     "text": [
      "The predicted passwort lenth is: [10]\n"
     ]
    }
   ],
   "source": [
    "guess()"
   ]
  },
  {
   "cell_type": "code",
   "execution_count": 151,
   "id": "ffeeee6a",
   "metadata": {},
   "outputs": [
    {
     "name": "stdout",
     "output_type": "stream",
     "text": [
      "aaaaaaaaaa\n",
      "6867\n",
      "bbbbbbbbbb\n",
      "6279\n",
      "cccccccccc\n",
      "2962\n",
      "dddddddddd\n",
      "2368\n",
      "eeeeeeeeee\n",
      "5991\n",
      "ffffffffff\n",
      "2718\n",
      "gggggggggg\n",
      "2744\n",
      "hhhhhhhhhh\n",
      "2216\n",
      "iiiiiiiiii\n",
      "2250\n",
      "jjjjjjjjjj\n",
      "2278\n",
      "kkkkkkkkkk\n",
      "2273\n",
      "llllllllll\n",
      "2377\n",
      "mmmmmmmmmm\n",
      "2451\n",
      "nnnnnnnnnn\n",
      "2228\n",
      "oooooooooo\n",
      "2226\n",
      "pppppppppp\n",
      "2201\n",
      "qqqqqqqqqq\n",
      "3356\n",
      "rrrrrrrrrr\n",
      "2300\n",
      "ssssssssss\n",
      "2495\n",
      "tttttttttt\n",
      "2002\n",
      "uuuuuuuuuu\n",
      "5207\n",
      "vvvvvvvvvv\n",
      "2827\n",
      "wwwwwwwwww\n",
      "2169\n",
      "xxxxxxxxxx\n",
      "2054\n",
      "yyyyyyyyyy\n",
      "2048\n",
      "zzzzzzzzzz\n",
      "2031\n"
     ]
    }
   ],
   "source": [
    "for i in a:\n",
    "    pw = i*10\n",
    "    t0 = time.thread_time_ns()\n",
    "    password_check(pw)\n",
    "    \n",
    "    t1 = time.thread_time_ns()\n",
    "    tf = t1-t0\n",
    "    print(pw)\n",
    "    print(tf)"
   ]
  },
  {
   "cell_type": "code",
   "execution_count": null,
   "id": "fb0b583f",
   "metadata": {},
   "outputs": [],
   "source": []
  },
  {
   "cell_type": "code",
   "execution_count": 167,
   "id": "925900d7",
   "metadata": {},
   "outputs": [],
   "source": [
    "s = list(\" \"*10)"
   ]
  },
  {
   "cell_type": "code",
   "execution_count": 168,
   "id": "f8a2ec80",
   "metadata": {},
   "outputs": [
    {
     "ename": "IndexError",
     "evalue": "list assignment index out of range",
     "output_type": "error",
     "traceback": [
      "\u001b[0;31m---------------------------------------------------------------------------\u001b[0m",
      "\u001b[0;31mIndexError\u001b[0m                                Traceback (most recent call last)",
      "\u001b[0;32m/tmp/ipykernel_129967/4136566478.py\u001b[0m in \u001b[0;36m<module>\u001b[0;34m\u001b[0m\n\u001b[1;32m      1\u001b[0m \u001b[0;32mfor\u001b[0m \u001b[0mi\u001b[0m \u001b[0;32min\u001b[0m \u001b[0mrange\u001b[0m\u001b[0;34m(\u001b[0m\u001b[0;36m1\u001b[0m\u001b[0;34m,\u001b[0m\u001b[0;36m11\u001b[0m\u001b[0;34m)\u001b[0m\u001b[0;34m:\u001b[0m\u001b[0;34m\u001b[0m\u001b[0;34m\u001b[0m\u001b[0m\n\u001b[1;32m      2\u001b[0m     \u001b[0;32mfor\u001b[0m \u001b[0mj\u001b[0m \u001b[0;32min\u001b[0m \u001b[0ma\u001b[0m\u001b[0;34m:\u001b[0m\u001b[0;34m\u001b[0m\u001b[0;34m\u001b[0m\u001b[0m\n\u001b[0;32m----> 3\u001b[0;31m         \u001b[0ms\u001b[0m\u001b[0;34m[\u001b[0m\u001b[0mi\u001b[0m\u001b[0;34m]\u001b[0m\u001b[0;34m=\u001b[0m\u001b[0mj\u001b[0m\u001b[0;34m\u001b[0m\u001b[0;34m\u001b[0m\u001b[0m\n\u001b[0m",
      "\u001b[0;31mIndexError\u001b[0m: list assignment index out of range"
     ]
    }
   ],
   "source": [
    "for i in range(1,11):\n",
    "    for j in a:\n",
    "        s[i]=j\n"
   ]
  },
  {
   "cell_type": "code",
   "execution_count": 152,
   "id": "6911c329",
   "metadata": {},
   "outputs": [],
   "source": [
    "import string\n"
   ]
  },
  {
   "cell_type": "code",
   "execution_count": null,
   "id": "59252be4",
   "metadata": {},
   "outputs": [],
   "source": []
  },
  {
   "cell_type": "code",
   "execution_count": 157,
   "id": "3bb25656",
   "metadata": {},
   "outputs": [],
   "source": [
    "\n",
    "s = list(\" \"*10)"
   ]
  },
  {
   "cell_type": "code",
   "execution_count": 158,
   "id": "d3c88eac",
   "metadata": {},
   "outputs": [
    {
     "data": {
      "text/plain": [
       "[' ', ' ', ' ', ' ', ' ', ' ', ' ', ' ', ' ', ' ']"
      ]
     },
     "execution_count": 158,
     "metadata": {},
     "output_type": "execute_result"
    }
   ],
   "source": [
    "s"
   ]
  },
  {
   "cell_type": "code",
   "execution_count": null,
   "id": "e69697b2",
   "metadata": {},
   "outputs": [],
   "source": []
  }
 ],
 "metadata": {
  "kernelspec": {
   "display_name": "Python 3 (ipykernel)",
   "language": "python",
   "name": "python3"
  },
  "language_info": {
   "codemirror_mode": {
    "name": "ipython",
    "version": 3
   },
   "file_extension": ".py",
   "mimetype": "text/x-python",
   "name": "python",
   "nbconvert_exporter": "python",
   "pygments_lexer": "ipython3",
   "version": "3.7.13"
  }
 },
 "nbformat": 4,
 "nbformat_minor": 5
}
