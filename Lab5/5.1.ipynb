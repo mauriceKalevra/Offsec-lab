{
 "cells": [
  {
   "cell_type": "code",
   "execution_count": 2,
   "id": "501182f4",
   "metadata": {},
   "outputs": [
    {
     "name": "stdout",
     "output_type": "stream",
     "text": [
      "Success! You have decrypted me!\u0001\n"
     ]
    }
   ],
   "source": [
    "import random\n",
    "import subprocess\n",
    "def pad_byte(b):\n",
    "    if len(hex(b)) == 3:\n",
    "        return \"0\" + hex(b)[2:]\n",
    "    else:\n",
    "        return hex(b)[2:]\n",
    "plaintext_result = []\n",
    "blocks = [\"00112233445566778800112233445566\", \"9949F0ED9C7D4FB79B600B8854B18FDC\",\\\n",
    "          \"51A894A2BA12939DCC36F074F63CF60B\"]\n",
    "def oracle(c0, c1):\n",
    "    plaintext = []\n",
    "    pad_bytes = []\n",
    "    padding = \"\"\n",
    "    for b in range(16, 0, -1):\n",
    "        for i in range(256):\n",
    "            r = subprocess.run([\"./aes128-cbc-crackme\", c0, \"00\" * (b-1) + pad_byte(i) + padding + c1], \\\n",
    "                               capture_output=True)\n",
    "            if r.stdout == b\"padding valid\\n\":\n",
    "                plaintext.append((17-b) ^ i ^ int(c0[(b-1)*2:(b-1)*2 + 2], 16))\n",
    "                pad_bytes.append(i)\n",
    "                padding = \"\"\n",
    "                for j in range(len(pad_bytes)):\n",
    "                    pad_bytes[j] = pad_bytes[j] ^ ((18-b) ^ (17-b))\n",
    "                    padding = pad_byte(pad_bytes[j]) + padding\n",
    "    return plaintext\n",
    "for i in range(2):\n",
    "    res = oracle(blocks[i], blocks[i+1])\n",
    "    res.reverse()\n",
    "    plaintext_result += res\n",
    "print(\"\".join([chr(c) for c in plaintext_result]))"
   ]
  },
  {
   "cell_type": "code",
   "execution_count": null,
   "id": "f6571dea",
   "metadata": {},
   "outputs": [],
   "source": []
  }
 ],
 "metadata": {
  "kernelspec": {
   "display_name": "Python 3 (ipykernel)",
   "language": "python",
   "name": "python3"
  },
  "language_info": {
   "codemirror_mode": {
    "name": "ipython",
    "version": 3
   },
   "file_extension": ".py",
   "mimetype": "text/x-python",
   "name": "python",
   "nbconvert_exporter": "python",
   "pygments_lexer": "ipython3",
   "version": "3.7.13"
  }
 },
 "nbformat": 4,
 "nbformat_minor": 5
}
